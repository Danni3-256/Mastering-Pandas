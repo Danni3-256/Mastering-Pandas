{
 "cells": [
  {
   "cell_type": "markdown",
   "id": "40e51e6a-4362-47fd-a194-ad4c117e5793",
   "metadata": {},
   "source": [
    "# The Pandas Series object"
   ]
  },
  {
   "cell_type": "markdown",
   "id": "5b44f280-c380-46ae-a2cc-e97802e3fdcd",
   "metadata": {},
   "source": [
    "## Challenge 1.\n",
    "Suppose that you’re given these two data structures:"
   ]
  },
  {
   "cell_type": "code",
   "execution_count": 1,
   "id": "8fab8930-25fb-4b40-84a1-a8439d34c70d",
   "metadata": {},
   "outputs": [],
   "source": [
    "superheroes = [\n",
    "\"Batman\",\n",
    "\"Superman\",\n",
    "\"Spider-Man\",\n",
    "\"Iron Man\",\n",
    "\"Captain America\",\n",
    "\"Wonder Woman\"\n",
    "]\n",
    "strength_levels = (100, 120, 90, 95, 110, 120)"
   ]
  },
  {
   "cell_type": "markdown",
   "id": "9b996f9d-9f3a-4234-98d1-404e9f3fff61",
   "metadata": {},
   "source": [
    "## Here are your challenges:\n",
    "1.  Use the list of superheroes to populate a new Series object.\n",
    "2.  Use the tuple of strengths to populate a new Series object.\n",
    "3.  Create a Series with the superheroes as index labels and the strength levels as the values. Assign the Series to a heroes variable.\n",
    "4.  Extract the first two rows of the heroes Series.\n",
    "5.  Extract the last four rows of the heroes Series.\n",
    "6.  Determine the number of unique values in your heroes Series.\n",
    "7.  Calculate the average strength of the superheroes in heroes.\n",
    "8.  Calculate the maximum and minimum strengths in heroes.\n",
    "9.  Calculate what each superhero’s strength level would be if it doubled.\n",
    "10. Convert the heroes Series to a Python dictionary."
   ]
  },
  {
   "cell_type": "markdown",
   "id": "c8571670",
   "metadata": {},
   "source": [
    "# Solution"
   ]
  },
  {
   "cell_type": "code",
   "execution_count": 2,
   "id": "0cd00766",
   "metadata": {},
   "outputs": [],
   "source": [
    "import pandas as pd\n",
    "import numpy as np"
   ]
  },
  {
   "cell_type": "markdown",
   "id": "58f82526",
   "metadata": {},
   "source": [
    "<b>Use the list of superheroes to populate a new Series object.</b>"
   ]
  },
  {
   "cell_type": "code",
   "execution_count": 3,
   "id": "2c9faf99",
   "metadata": {},
   "outputs": [
    {
     "data": {
      "text/plain": [
       "0             Batman\n",
       "1           Superman\n",
       "2         Spider-Man\n",
       "3           Iron Man\n",
       "4    Captain America\n",
       "5       Wonder Woman\n",
       "dtype: object"
      ]
     },
     "execution_count": 3,
     "metadata": {},
     "output_type": "execute_result"
    }
   ],
   "source": [
    "#Assigning new series variable \"new_superheroes\" & Using pd.Series to create our new series object.\n",
    "new_superheroes = pd.Series(superheroes)\n",
    "new_superheroes"
   ]
  },
  {
   "cell_type": "markdown",
   "id": "8fadd6b2",
   "metadata": {},
   "source": [
    "<b>Use the tuple of strengths to populate a new Series object.<b/>"
   ]
  },
  {
   "cell_type": "code",
   "execution_count": 4,
   "id": "e65a35d2",
   "metadata": {},
   "outputs": [
    {
     "name": "stdout",
     "output_type": "stream",
     "text": [
      "0    100\n",
      "1    120\n",
      "2     90\n",
      "3     95\n",
      "4    110\n",
      "5    120\n",
      "dtype: int64\n"
     ]
    }
   ],
   "source": [
    "#Assigning new series variable \"new_strengths\" & Using pd.Series to create our new series object from the tuple of strengths.\n",
    "new_strengths = pd.Series(strength_levels)\n",
    "print(new_strengths)"
   ]
  },
  {
   "cell_type": "markdown",
   "id": "518e6062",
   "metadata": {},
   "source": [
    "<b>Create a Series with the superheroes as index labels and the strength levels as the values. Assign the Series to a heroes variable.<b/>"
   ]
  },
  {
   "cell_type": "code",
   "execution_count": 5,
   "id": "bc76fea0",
   "metadata": {},
   "outputs": [
    {
     "data": {
      "text/plain": [
       "Batman             100\n",
       "Superman           120\n",
       "Spider-Man          90\n",
       "Iron Man            95\n",
       "Captain America    110\n",
       "Wonder Woman       120\n",
       "dtype: int64"
      ]
     },
     "execution_count": 5,
     "metadata": {},
     "output_type": "execute_result"
    }
   ],
   "source": [
    "# Assigned a heroes variable. The index parameter passes superheroes list as index and data passes strength_levels tuple as the values\n",
    "heroes = pd.Series(index = superheroes, data = strength_levels)\n",
    "heroes"
   ]
  },
  {
   "cell_type": "markdown",
   "id": "456f4c2e",
   "metadata": {},
   "source": [
    "<b>Extract the first two rows of the heroes Series.</b>"
   ]
  },
  {
   "cell_type": "code",
   "execution_count": 6,
   "id": "ab366d46",
   "metadata": {},
   "outputs": [
    {
     "data": {
      "text/plain": [
       "Batman      100\n",
       "Superman    120\n",
       "dtype: int64"
      ]
     },
     "execution_count": 6,
     "metadata": {},
     "output_type": "execute_result"
    }
   ],
   "source": [
    "first2rows = heroes.iloc[:2]\n",
    "first2rows"
   ]
  },
  {
   "cell_type": "markdown",
   "id": "f3c13a81",
   "metadata": {},
   "source": [
    "<b>Extract the last four rows of the heroes Series.</b>"
   ]
  },
  {
   "cell_type": "code",
   "execution_count": 7,
   "id": "84556377",
   "metadata": {},
   "outputs": [
    {
     "data": {
      "text/plain": [
       "Spider-Man          90\n",
       "Iron Man            95\n",
       "Captain America    110\n",
       "Wonder Woman       120\n",
       "dtype: int64"
      ]
     },
     "execution_count": 7,
     "metadata": {},
     "output_type": "execute_result"
    }
   ],
   "source": [
    "last4rows = heroes.iloc[2:]\n",
    "last4rows"
   ]
  },
  {
   "cell_type": "code",
   "execution_count": 8,
   "id": "9346d7ca",
   "metadata": {},
   "outputs": [
    {
     "data": {
      "text/plain": [
       "Spider-Man          90\n",
       "Iron Man            95\n",
       "Captain America    110\n",
       "Wonder Woman       120\n",
       "dtype: int64"
      ]
     },
     "execution_count": 8,
     "metadata": {},
     "output_type": "execute_result"
    }
   ],
   "source": [
    "last4_rows = heroes.iloc[-4:]\n",
    "last4_rows"
   ]
  },
  {
   "cell_type": "markdown",
   "id": "6d53ad5e",
   "metadata": {},
   "source": [
    "<b>Determine the number of unique values in your heroes Series.</b>"
   ]
  },
  {
   "cell_type": "code",
   "execution_count": 9,
   "id": "c18619d9",
   "metadata": {},
   "outputs": [
    {
     "data": {
      "text/plain": [
       "array([100, 120,  90,  95, 110], dtype=int64)"
      ]
     },
     "execution_count": 9,
     "metadata": {},
     "output_type": "execute_result"
    }
   ],
   "source": [
    "heroes.unique()"
   ]
  },
  {
   "cell_type": "code",
   "execution_count": 10,
   "id": "af966153",
   "metadata": {},
   "outputs": [
    {
     "data": {
      "text/plain": [
       "array([100, 120,  90,  95, 110], dtype=int64)"
      ]
     },
     "execution_count": 10,
     "metadata": {},
     "output_type": "execute_result"
    }
   ],
   "source": [
    "unique_values = heroes.unique()\n",
    "unique_values"
   ]
  },
  {
   "cell_type": "markdown",
   "id": "73f671b7",
   "metadata": {},
   "source": [
    "<b>Average, Maximum and Minimum Values<b/>"
   ]
  },
  {
   "cell_type": "code",
   "execution_count": 11,
   "id": "e80934bf",
   "metadata": {},
   "outputs": [
    {
     "data": {
      "text/plain": [
       "105.83333333333333"
      ]
     },
     "execution_count": 11,
     "metadata": {},
     "output_type": "execute_result"
    }
   ],
   "source": [
    "heroes.mean()"
   ]
  },
  {
   "cell_type": "code",
   "execution_count": 12,
   "id": "2bf95522",
   "metadata": {},
   "outputs": [
    {
     "data": {
      "text/plain": [
       "105.83333333333333"
      ]
     },
     "execution_count": 12,
     "metadata": {},
     "output_type": "execute_result"
    }
   ],
   "source": [
    "average_strength = heroes.mean()\n",
    "average_strength"
   ]
  },
  {
   "cell_type": "code",
   "execution_count": 13,
   "id": "6cf10aa9",
   "metadata": {},
   "outputs": [
    {
     "data": {
      "text/plain": [
       "90"
      ]
     },
     "execution_count": 13,
     "metadata": {},
     "output_type": "execute_result"
    }
   ],
   "source": [
    "heroes.min()"
   ]
  },
  {
   "cell_type": "code",
   "execution_count": 14,
   "id": "37c68275",
   "metadata": {},
   "outputs": [
    {
     "data": {
      "text/plain": [
       "90"
      ]
     },
     "execution_count": 14,
     "metadata": {},
     "output_type": "execute_result"
    }
   ],
   "source": [
    "min_strength = heroes.min()\n",
    "min_strength"
   ]
  },
  {
   "cell_type": "code",
   "execution_count": 15,
   "id": "ba5eb978",
   "metadata": {},
   "outputs": [
    {
     "data": {
      "text/plain": [
       "120"
      ]
     },
     "execution_count": 15,
     "metadata": {},
     "output_type": "execute_result"
    }
   ],
   "source": [
    "heroes.max()"
   ]
  },
  {
   "cell_type": "code",
   "execution_count": 16,
   "id": "7faefa02",
   "metadata": {},
   "outputs": [
    {
     "data": {
      "text/plain": [
       "120"
      ]
     },
     "execution_count": 16,
     "metadata": {},
     "output_type": "execute_result"
    }
   ],
   "source": [
    "max_strength = heroes.max()\n",
    "max_strength"
   ]
  },
  {
   "cell_type": "markdown",
   "id": "2d7735e4",
   "metadata": {},
   "source": [
    "<b>Calculate what each superhero’s strength level would be if it doubled.</b>"
   ]
  },
  {
   "cell_type": "code",
   "execution_count": 17,
   "id": "bc7500f7",
   "metadata": {},
   "outputs": [
    {
     "data": {
      "text/plain": [
       "Batman             200\n",
       "Superman           240\n",
       "Spider-Man         180\n",
       "Iron Man           190\n",
       "Captain America    220\n",
       "Wonder Woman       240\n",
       "dtype: int64"
      ]
     },
     "execution_count": 17,
     "metadata": {},
     "output_type": "execute_result"
    }
   ],
   "source": [
    "heroes * 2"
   ]
  },
  {
   "cell_type": "markdown",
   "id": "ccb56d26",
   "metadata": {},
   "source": [
    "<b>Convert the heroes Series to a Python dictionary.</b>"
   ]
  },
  {
   "cell_type": "code",
   "execution_count": 18,
   "id": "12ad2d0c",
   "metadata": {},
   "outputs": [
    {
     "data": {
      "text/plain": [
       "{'Batman': 100,\n",
       " 'Superman': 120,\n",
       " 'Spider-Man': 90,\n",
       " 'Iron Man': 95,\n",
       " 'Captain America': 110,\n",
       " 'Wonder Woman': 120}"
      ]
     },
     "execution_count": 18,
     "metadata": {},
     "output_type": "execute_result"
    }
   ],
   "source": [
    "heroes_dictionary = heroes.to_dict()\n",
    "heroes_dictionary"
   ]
  },
  {
   "cell_type": "code",
   "execution_count": null,
   "id": "176efa01",
   "metadata": {},
   "outputs": [],
   "source": []
  }
 ],
 "metadata": {
  "kernelspec": {
   "display_name": "Python 3 (ipykernel)",
   "language": "python",
   "name": "python3"
  },
  "language_info": {
   "codemirror_mode": {
    "name": "ipython",
    "version": 3
   },
   "file_extension": ".py",
   "mimetype": "text/x-python",
   "name": "python",
   "nbconvert_exporter": "python",
   "pygments_lexer": "ipython3",
   "version": "3.9.16"
  }
 },
 "nbformat": 4,
 "nbformat_minor": 5
}
