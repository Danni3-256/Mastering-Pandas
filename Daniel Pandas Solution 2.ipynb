{
 "cells": [
  {
   "cell_type": "code",
   "execution_count": 3,
   "id": "800fe7ac",
   "metadata": {},
   "outputs": [],
   "source": [
    "import pandas as pd\n",
    "import numpy as np"
   ]
  },
  {
   "cell_type": "code",
   "execution_count": 4,
   "id": "88433d6c",
   "metadata": {},
   "outputs": [],
   "source": [
    "df = pd.read_csv('nfl.csv')"
   ]
  },
  {
   "cell_type": "code",
   "execution_count": 11,
   "id": "78b028fb",
   "metadata": {},
   "outputs": [
    {
     "data": {
      "text/html": [
       "<div>\n",
       "<style scoped>\n",
       "    .dataframe tbody tr th:only-of-type {\n",
       "        vertical-align: middle;\n",
       "    }\n",
       "\n",
       "    .dataframe tbody tr th {\n",
       "        vertical-align: top;\n",
       "    }\n",
       "\n",
       "    .dataframe thead th {\n",
       "        text-align: right;\n",
       "    }\n",
       "</style>\n",
       "<table border=\"1\" class=\"dataframe\">\n",
       "  <thead>\n",
       "    <tr style=\"text-align: right;\">\n",
       "      <th></th>\n",
       "      <th>Name</th>\n",
       "      <th>Team</th>\n",
       "      <th>Position</th>\n",
       "      <th>Birthday</th>\n",
       "      <th>Salary</th>\n",
       "    </tr>\n",
       "  </thead>\n",
       "  <tbody>\n",
       "    <tr>\n",
       "      <th>0</th>\n",
       "      <td>Tremon Smith</td>\n",
       "      <td>Philadelphia Eagles</td>\n",
       "      <td>RB</td>\n",
       "      <td>7/20/1996</td>\n",
       "      <td>570000</td>\n",
       "    </tr>\n",
       "    <tr>\n",
       "      <th>1</th>\n",
       "      <td>Shawn Williams</td>\n",
       "      <td>Cincinnati Bengals</td>\n",
       "      <td>SS</td>\n",
       "      <td>5/13/1991</td>\n",
       "      <td>3500000</td>\n",
       "    </tr>\n",
       "    <tr>\n",
       "      <th>2</th>\n",
       "      <td>Adam Butler</td>\n",
       "      <td>New England Patriots</td>\n",
       "      <td>DT</td>\n",
       "      <td>4/12/1994</td>\n",
       "      <td>645000</td>\n",
       "    </tr>\n",
       "    <tr>\n",
       "      <th>3</th>\n",
       "      <td>Derek Wolfe</td>\n",
       "      <td>Denver Broncos</td>\n",
       "      <td>DE</td>\n",
       "      <td>2/24/1990</td>\n",
       "      <td>8000000</td>\n",
       "    </tr>\n",
       "    <tr>\n",
       "      <th>4</th>\n",
       "      <td>Jake Ryan</td>\n",
       "      <td>Jacksonville Jaguars</td>\n",
       "      <td>OLB</td>\n",
       "      <td>2/27/1992</td>\n",
       "      <td>1000000</td>\n",
       "    </tr>\n",
       "    <tr>\n",
       "      <th>5</th>\n",
       "      <td>Ezekiel Elliott</td>\n",
       "      <td>Dallas Cowboys</td>\n",
       "      <td>RB</td>\n",
       "      <td>7/22/1995</td>\n",
       "      <td>3853137</td>\n",
       "    </tr>\n",
       "    <tr>\n",
       "      <th>6</th>\n",
       "      <td>John Jenkins</td>\n",
       "      <td>Miami Dolphins</td>\n",
       "      <td>DE</td>\n",
       "      <td>7/11/1989</td>\n",
       "      <td>805000</td>\n",
       "    </tr>\n",
       "    <tr>\n",
       "      <th>7</th>\n",
       "      <td>Andrew Wingard</td>\n",
       "      <td>Jacksonville Jaguars</td>\n",
       "      <td>FS</td>\n",
       "      <td>12/5/1996</td>\n",
       "      <td>495000</td>\n",
       "    </tr>\n",
       "    <tr>\n",
       "      <th>8</th>\n",
       "      <td>John Jerry</td>\n",
       "      <td>Cincinnati Bengals</td>\n",
       "      <td>OT</td>\n",
       "      <td>6/14/1986</td>\n",
       "      <td>930000</td>\n",
       "    </tr>\n",
       "    <tr>\n",
       "      <th>9</th>\n",
       "      <td>Matt Barkley</td>\n",
       "      <td>Buffalo Bills</td>\n",
       "      <td>QB</td>\n",
       "      <td>9/8/1990</td>\n",
       "      <td>1250000</td>\n",
       "    </tr>\n",
       "    <tr>\n",
       "      <th>10</th>\n",
       "      <td>Josh Harris</td>\n",
       "      <td>Atlanta Falcons</td>\n",
       "      <td>LS</td>\n",
       "      <td>4/27/1989</td>\n",
       "      <td>930000</td>\n",
       "    </tr>\n",
       "    <tr>\n",
       "      <th>11</th>\n",
       "      <td>Adarius Taylor</td>\n",
       "      <td>Cleveland Browns</td>\n",
       "      <td>OLB</td>\n",
       "      <td>9/21/1990</td>\n",
       "      <td>1350000</td>\n",
       "    </tr>\n",
       "    <tr>\n",
       "      <th>12</th>\n",
       "      <td>Olabisi Johnson</td>\n",
       "      <td>Minnesota Vikings</td>\n",
       "      <td>WR</td>\n",
       "      <td>3/17/1997</td>\n",
       "      <td>647500</td>\n",
       "    </tr>\n",
       "    <tr>\n",
       "      <th>13</th>\n",
       "      <td>Andrew Adams</td>\n",
       "      <td>Tampa Bay Buccaneers</td>\n",
       "      <td>SS</td>\n",
       "      <td>10/28/1992</td>\n",
       "      <td>720000</td>\n",
       "    </tr>\n",
       "    <tr>\n",
       "      <th>14</th>\n",
       "      <td>Forrest Lamp</td>\n",
       "      <td>Los Angeles Chargers</td>\n",
       "      <td>G</td>\n",
       "      <td>2/20/1994</td>\n",
       "      <td>1071084</td>\n",
       "    </tr>\n",
       "    <tr>\n",
       "      <th>15</th>\n",
       "      <td>Ryan Kerrigan</td>\n",
       "      <td>Washington Redskins</td>\n",
       "      <td>OLB</td>\n",
       "      <td>8/16/1988</td>\n",
       "      <td>10500000</td>\n",
       "    </tr>\n",
       "    <tr>\n",
       "      <th>16</th>\n",
       "      <td>Robert Davis</td>\n",
       "      <td>Philadelphia Eagles</td>\n",
       "      <td>WR</td>\n",
       "      <td>4/2/1995</td>\n",
       "      <td>570000</td>\n",
       "    </tr>\n",
       "    <tr>\n",
       "      <th>17</th>\n",
       "      <td>Kevin Byard</td>\n",
       "      <td>Tennessee Titans</td>\n",
       "      <td>FS</td>\n",
       "      <td>8/17/1993</td>\n",
       "      <td>2025000</td>\n",
       "    </tr>\n",
       "    <tr>\n",
       "      <th>18</th>\n",
       "      <td>Pat O'Donnell</td>\n",
       "      <td>Chicago Bears</td>\n",
       "      <td>P</td>\n",
       "      <td>2/22/1991</td>\n",
       "      <td>1250000</td>\n",
       "    </tr>\n",
       "    <tr>\n",
       "      <th>19</th>\n",
       "      <td>Barkevious Mingo</td>\n",
       "      <td>Houston Texans</td>\n",
       "      <td>OLB</td>\n",
       "      <td>10/4/1990</td>\n",
       "      <td>3400000</td>\n",
       "    </tr>\n",
       "  </tbody>\n",
       "</table>\n",
       "</div>"
      ],
      "text/plain": [
       "                Name                  Team Position    Birthday    Salary\n",
       "0       Tremon Smith   Philadelphia Eagles       RB   7/20/1996    570000\n",
       "1     Shawn Williams    Cincinnati Bengals       SS   5/13/1991   3500000\n",
       "2        Adam Butler  New England Patriots       DT   4/12/1994    645000\n",
       "3        Derek Wolfe        Denver Broncos       DE   2/24/1990   8000000\n",
       "4          Jake Ryan  Jacksonville Jaguars      OLB   2/27/1992   1000000\n",
       "5    Ezekiel Elliott        Dallas Cowboys       RB   7/22/1995   3853137\n",
       "6       John Jenkins        Miami Dolphins       DE   7/11/1989    805000\n",
       "7     Andrew Wingard  Jacksonville Jaguars       FS   12/5/1996    495000\n",
       "8         John Jerry    Cincinnati Bengals       OT   6/14/1986    930000\n",
       "9       Matt Barkley         Buffalo Bills       QB    9/8/1990   1250000\n",
       "10       Josh Harris       Atlanta Falcons       LS   4/27/1989    930000\n",
       "11    Adarius Taylor      Cleveland Browns      OLB   9/21/1990   1350000\n",
       "12   Olabisi Johnson     Minnesota Vikings       WR   3/17/1997    647500\n",
       "13      Andrew Adams  Tampa Bay Buccaneers       SS  10/28/1992    720000\n",
       "14      Forrest Lamp  Los Angeles Chargers        G   2/20/1994   1071084\n",
       "15     Ryan Kerrigan   Washington Redskins      OLB   8/16/1988  10500000\n",
       "16      Robert Davis   Philadelphia Eagles       WR    4/2/1995    570000\n",
       "17       Kevin Byard      Tennessee Titans       FS   8/17/1993   2025000\n",
       "18     Pat O'Donnell         Chicago Bears        P   2/22/1991   1250000\n",
       "19  Barkevious Mingo        Houston Texans      OLB   10/4/1990   3400000"
      ]
     },
     "execution_count": 11,
     "metadata": {},
     "output_type": "execute_result"
    }
   ],
   "source": [
    "df.head(20)"
   ]
  },
  {
   "cell_type": "code",
   "execution_count": 7,
   "id": "0539b286",
   "metadata": {},
   "outputs": [
    {
     "data": {
      "text/plain": [
       "(1655, 5)"
      ]
     },
     "execution_count": 7,
     "metadata": {},
     "output_type": "execute_result"
    }
   ],
   "source": [
    "df.shape"
   ]
  },
  {
   "cell_type": "code",
   "execution_count": 9,
   "id": "35605de1",
   "metadata": {},
   "outputs": [
    {
     "data": {
      "text/plain": [
       "1655"
      ]
     },
     "execution_count": 9,
     "metadata": {},
     "output_type": "execute_result"
    }
   ],
   "source": [
    "df['Name'].value_counts().sum()"
   ]
  },
  {
   "cell_type": "code",
   "execution_count": 13,
   "id": "9ff34931",
   "metadata": {},
   "outputs": [
    {
     "data": {
      "text/plain": [
       "array(['Philadelphia Eagles', 'Cincinnati Bengals',\n",
       "       'New England Patriots', 'Denver Broncos', 'Jacksonville Jaguars',\n",
       "       'Dallas Cowboys', 'Miami Dolphins', 'Buffalo Bills',\n",
       "       'Atlanta Falcons', 'Cleveland Browns', 'Minnesota Vikings',\n",
       "       'Tampa Bay Buccaneers', 'Los Angeles Chargers',\n",
       "       'Washington Redskins', 'Tennessee Titans', 'Chicago Bears',\n",
       "       'Houston Texans', 'Arizona Cardinals', 'Baltimore Ravens',\n",
       "       'New Orleans Saints', 'Detroit Lions', 'Pittsburgh Steelers',\n",
       "       'San Francisco 49Ers', 'New York Giants', 'New York Jets',\n",
       "       'Green Bay Packers', 'Seattle Seahawks', 'Indianapolis Colts',\n",
       "       'Carolina Panthers', 'Oakland Raiders', 'Los Angeles Rams',\n",
       "       'Kansas City Chiefs'], dtype=object)"
      ]
     },
     "execution_count": 13,
     "metadata": {},
     "output_type": "execute_result"
    }
   ],
   "source": [
    "df['Team'].unique()"
   ]
  },
  {
   "cell_type": "code",
   "execution_count": null,
   "id": "99a6fb2f",
   "metadata": {},
   "outputs": [],
   "source": []
  }
 ],
 "metadata": {
  "kernelspec": {
   "display_name": "Python 3 (ipykernel)",
   "language": "python",
   "name": "python3"
  },
  "language_info": {
   "codemirror_mode": {
    "name": "ipython",
    "version": 3
   },
   "file_extension": ".py",
   "mimetype": "text/x-python",
   "name": "python",
   "nbconvert_exporter": "python",
   "pygments_lexer": "ipython3",
   "version": "3.9.16"
  }
 },
 "nbformat": 4,
 "nbformat_minor": 5
}
