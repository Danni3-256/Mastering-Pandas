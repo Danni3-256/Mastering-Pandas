{
 "cells": [
  {
   "cell_type": "markdown",
   "id": "40e51e6a-4362-47fd-a194-ad4c117e5793",
   "metadata": {},
   "source": [
    "# Challenge 1. The Pandas Series object"
   ]
  },
  {
   "cell_type": "markdown",
   "id": "5b44f280-c380-46ae-a2cc-e97802e3fdcd",
   "metadata": {},
   "source": [
    "Suppose that you’re given these two data structures:"
   ]
  },
  {
   "cell_type": "code",
   "execution_count": 1,
   "id": "8fab8930-25fb-4b40-84a1-a8439d34c70d",
   "metadata": {},
   "outputs": [],
   "source": [
    "superheroes = [\n",
    "\"Batman\",\n",
    "\"Superman\",\n",
    "\"Spider-Man\",\n",
    "\"Iron Man\",\n",
    "\"Captain America\",\n",
    "\"Wonder Woman\"\n",
    "]\n",
    "strength_levels = (100, 120, 90, 95, 110, 120)"
   ]
  },
  {
   "cell_type": "markdown",
   "id": "9b996f9d-9f3a-4234-98d1-404e9f3fff61",
   "metadata": {
    "tags": []
   },
   "source": [
    "## Here are your challenges:\n",
    "1.  Use the list of superheroes to populate a new Series object.\n",
    "2.  Use the tuple of strengths to populate a new Series object.\n",
    "3.  Create a Series with the superheroes as index labels and the strength levels as the values. Assign the Series to a heroes variable.\n",
    "4.  Extract the first two rows of the heroes Series.\n",
    "5.  Extract the last four rows of the heroes Series.\n",
    "6.  Determine the number of unique values in your heroes Series.\n",
    "7.  Calculate the average strength of the superheroes in heroes.\n",
    "8.  Calculate the maximum and minimum strengths in heroes.\n",
    "9.  Calculate what each superhero’s strength level would be if it doubled.\n",
    "10. Convert the heroes Series to a Python dictionary."
   ]
  },
  {
   "cell_type": "markdown",
   "id": "f1b4eca3-3f53-4e92-9a63-da29fef9dc31",
   "metadata": {},
   "source": [
    "## Import libraries. In this case, we only need `pandas` "
   ]
  },
  {
   "cell_type": "code",
   "execution_count": 2,
   "id": "72a5b6a8-9e33-48c3-934f-c9d35db9237f",
   "metadata": {},
   "outputs": [],
   "source": [
    "import pandas as pd"
   ]
  },
  {
   "cell_type": "markdown",
   "id": "cad45f3c-512c-463a-ba0c-7aa92a7fe25f",
   "metadata": {},
   "source": [
    "1.  Use the list of superheroes to populate a new Series object."
   ]
  },
  {
   "cell_type": "code",
   "execution_count": 3,
   "id": "c7b402b7-10d8-4bc8-94ab-9f786c02c96a",
   "metadata": {},
   "outputs": [],
   "source": [
    "s = pd.Series(superheroes)"
   ]
  },
  {
   "cell_type": "code",
   "execution_count": 4,
   "id": "229d6031-53b9-4468-8cad-753c9247e823",
   "metadata": {},
   "outputs": [
    {
     "data": {
      "text/plain": [
       "0             Batman\n",
       "1           Superman\n",
       "2         Spider-Man\n",
       "3           Iron Man\n",
       "4    Captain America\n",
       "5       Wonder Woman\n",
       "dtype: object"
      ]
     },
     "execution_count": 4,
     "metadata": {},
     "output_type": "execute_result"
    }
   ],
   "source": [
    "s"
   ]
  },
  {
   "cell_type": "markdown",
   "id": "f162e04f-afa2-4c26-95bb-45a6e8a47277",
   "metadata": {},
   "source": [
    "2.  Use the tuple of strengths to populate a new Series object."
   ]
  },
  {
   "cell_type": "code",
   "execution_count": 5,
   "id": "8ec67720-efb0-42dc-8843-2e393ae09ee4",
   "metadata": {},
   "outputs": [],
   "source": [
    "s2 = pd.Series(strength_levels)"
   ]
  },
  {
   "cell_type": "code",
   "execution_count": 6,
   "id": "51f8bc14-d683-4bc7-aa1d-99d0e62ec188",
   "metadata": {},
   "outputs": [
    {
     "data": {
      "text/plain": [
       "0    100\n",
       "1    120\n",
       "2     90\n",
       "3     95\n",
       "4    110\n",
       "5    120\n",
       "dtype: int64"
      ]
     },
     "execution_count": 6,
     "metadata": {},
     "output_type": "execute_result"
    }
   ],
   "source": [
    "s2"
   ]
  },
  {
   "cell_type": "markdown",
   "id": "3909abbd-051c-4002-ae94-c0c43aaf9bd0",
   "metadata": {},
   "source": [
    "3.  Create a Series with the superheroes as index labels and the strength levels as the values. Assign the Series to a heroes variable."
   ]
  },
  {
   "cell_type": "code",
   "execution_count": 7,
   "id": "699e9cf2-c983-47bc-9c68-60e3fb9789be",
   "metadata": {},
   "outputs": [],
   "source": [
    "heroes = pd.Series(strength_levels, index=superheroes)"
   ]
  },
  {
   "cell_type": "code",
   "execution_count": 9,
   "id": "7476b5e4-166b-4123-a8fe-f68ee403f546",
   "metadata": {},
   "outputs": [
    {
     "data": {
      "text/plain": [
       "Batman             100\n",
       "Superman           120\n",
       "Spider-Man          90\n",
       "Iron Man            95\n",
       "Captain America    110\n",
       "Wonder Woman       120\n",
       "dtype: int64"
      ]
     },
     "execution_count": 9,
     "metadata": {},
     "output_type": "execute_result"
    }
   ],
   "source": [
    "heroes"
   ]
  },
  {
   "cell_type": "markdown",
   "id": "6dafc2e8-9bf5-4586-a0f5-aae2c80a441c",
   "metadata": {},
   "source": [
    "4.  Extract the first two rows of the heroes Series."
   ]
  },
  {
   "cell_type": "code",
   "execution_count": 10,
   "id": "d9b2eb1b-05fc-408f-91f9-4c5eb118706d",
   "metadata": {},
   "outputs": [
    {
     "data": {
      "text/plain": [
       "Batman      100\n",
       "Superman    120\n",
       "dtype: int64"
      ]
     },
     "execution_count": 10,
     "metadata": {},
     "output_type": "execute_result"
    }
   ],
   "source": [
    "heroes.iloc[:2]"
   ]
  },
  {
   "cell_type": "markdown",
   "id": "f611598f-82ff-4b2b-bc86-6941e3b1e5f7",
   "metadata": {},
   "source": [
    "5.  Extract the last four rows of the heroes Series."
   ]
  },
  {
   "cell_type": "code",
   "execution_count": 11,
   "id": "2e04bfe0-eea7-4434-92d2-e194feed40c6",
   "metadata": {},
   "outputs": [
    {
     "data": {
      "text/plain": [
       "Spider-Man          90\n",
       "Iron Man            95\n",
       "Captain America    110\n",
       "Wonder Woman       120\n",
       "dtype: int64"
      ]
     },
     "execution_count": 11,
     "metadata": {},
     "output_type": "execute_result"
    }
   ],
   "source": [
    "heroes.iloc[-4:]"
   ]
  },
  {
   "cell_type": "markdown",
   "id": "9f99e7e7-eb7b-4377-bf5c-348c9ecd5323",
   "metadata": {},
   "source": [
    "6.  Determine the number of unique values in your heroes Series."
   ]
  },
  {
   "cell_type": "code",
   "execution_count": 12,
   "id": "70333ddd-997f-43ec-ab0e-18d9f1cbb204",
   "metadata": {},
   "outputs": [
    {
     "data": {
      "text/plain": [
       "array([100, 120,  90,  95, 110])"
      ]
     },
     "execution_count": 12,
     "metadata": {},
     "output_type": "execute_result"
    }
   ],
   "source": [
    "heroes.unique()"
   ]
  },
  {
   "cell_type": "markdown",
   "id": "04fc489c-582f-49e9-a5dc-3de024628639",
   "metadata": {},
   "source": [
    "7.  Calculate the average strength of the superheroes in heroes."
   ]
  },
  {
   "cell_type": "code",
   "execution_count": 13,
   "id": "5daabe0e-c67a-4f38-ae8f-3ac7f231006c",
   "metadata": {},
   "outputs": [
    {
     "data": {
      "text/plain": [
       "105.83"
      ]
     },
     "execution_count": 13,
     "metadata": {},
     "output_type": "execute_result"
    }
   ],
   "source": [
    "round(heroes.mean(), 2)  # round to 2 decimal positions"
   ]
  },
  {
   "cell_type": "markdown",
   "id": "ebf037be-dc40-4e3d-ad41-a3abc8a55310",
   "metadata": {},
   "source": [
    "8.  Calculate the maximum and minimum strengths in heroes."
   ]
  },
  {
   "cell_type": "code",
   "execution_count": 16,
   "id": "263cf106-8485-4c5f-9355-bfd3e4a4d946",
   "metadata": {},
   "outputs": [
    {
     "name": "stdout",
     "output_type": "stream",
     "text": [
      "Maximum value: 120, minimum value: 90\n"
     ]
    }
   ],
   "source": [
    "max_value, min_value = heroes.agg([max, min])\n",
    "print(f'Maximum value: {max_value}, minimum value: {min_value}')"
   ]
  },
  {
   "cell_type": "markdown",
   "id": "b3302102-856a-4cd6-99bb-a077a9b84955",
   "metadata": {},
   "source": [
    "9.  Calculate what each superhero’s strength level would be if it doubled."
   ]
  },
  {
   "cell_type": "code",
   "execution_count": 17,
   "id": "8a6e5c01-8874-4348-84e2-196ffbc1e0cf",
   "metadata": {},
   "outputs": [
    {
     "data": {
      "text/plain": [
       "Batman             200\n",
       "Superman           240\n",
       "Spider-Man         180\n",
       "Iron Man           190\n",
       "Captain America    220\n",
       "Wonder Woman       240\n",
       "dtype: int64"
      ]
     },
     "execution_count": 17,
     "metadata": {},
     "output_type": "execute_result"
    }
   ],
   "source": [
    "heroes * 2"
   ]
  },
  {
   "cell_type": "markdown",
   "id": "034801d8-fab3-4988-872d-467ee06ded95",
   "metadata": {},
   "source": [
    "10. Convert the heroes Series to a Python dictionary."
   ]
  },
  {
   "cell_type": "code",
   "execution_count": 18,
   "id": "d5dad7f6-7877-438a-967a-f91603186d5e",
   "metadata": {},
   "outputs": [
    {
     "data": {
      "text/plain": [
       "{'Batman': 100,\n",
       " 'Superman': 120,\n",
       " 'Spider-Man': 90,\n",
       " 'Iron Man': 95,\n",
       " 'Captain America': 110,\n",
       " 'Wonder Woman': 120}"
      ]
     },
     "execution_count": 18,
     "metadata": {},
     "output_type": "execute_result"
    }
   ],
   "source": [
    "heroes.to_dict()"
   ]
  }
 ],
 "metadata": {
  "kernelspec": {
   "display_name": "Python 3 (ipykernel)",
   "language": "python",
   "name": "python3"
  },
  "language_info": {
   "codemirror_mode": {
    "name": "ipython",
    "version": 3
   },
   "file_extension": ".py",
   "mimetype": "text/x-python",
   "name": "python",
   "nbconvert_exporter": "python",
   "pygments_lexer": "ipython3",
   "version": "3.9.16"
  }
 },
 "nbformat": 4,
 "nbformat_minor": 5
}
