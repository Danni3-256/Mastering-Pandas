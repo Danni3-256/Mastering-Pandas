{
 "cells": [
  {
   "cell_type": "markdown",
   "id": "6566e9ca-114d-4660-bd82-ae58084cd4ea",
   "metadata": {},
   "source": [
    "## Coding Challenge 2  \n",
    "### Dataframes"
   ]
  },
  {
   "cell_type": "markdown",
   "id": "26c0226d-21ab-4c82-842d-13b01f4e0007",
   "metadata": {},
   "source": [
    "The nfl.csv file contains a list of players in the National Football League with similar\n",
    "Name, Team, Position, Birthday, and Salary columns. See whether you can answer\n",
    "these questions:  \n",
    "1. How can we import the nfl.csv file? What’s an effective way to convert the values in its Birthday column to datetimes?\n",
    "2. What  are  the  two  ways  we  can  set  the  DataFrame  index  to  store  the  player names?\n",
    "3. How can we count the number of players per team in this data set?\n",
    "4. Who are the five highest-paid players?\n",
    "5. How can we sort the data set first by teams in alphabetical order and then by salary in descending order?\n",
    "6. Who is the oldest player on the New York Jets roster, and what is his birthday?\n"
   ]
  },
  {
   "cell_type": "code",
   "execution_count": null,
   "id": "72320424-ef2a-4174-85e4-8da8e664c234",
   "metadata": {},
   "outputs": [],
   "source": []
  }
 ],
 "metadata": {
  "kernelspec": {
   "display_name": "Python 3 (ipykernel)",
   "language": "python",
   "name": "python3"
  },
  "language_info": {
   "codemirror_mode": {
    "name": "ipython",
    "version": 3
   },
   "file_extension": ".py",
   "mimetype": "text/x-python",
   "name": "python",
   "nbconvert_exporter": "python",
   "pygments_lexer": "ipython3",
   "version": "3.9.16"
  }
 },
 "nbformat": 4,
 "nbformat_minor": 5
}
